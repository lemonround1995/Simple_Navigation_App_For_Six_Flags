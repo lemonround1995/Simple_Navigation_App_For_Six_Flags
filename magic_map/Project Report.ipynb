{
 "cells": [
  {
   "cell_type": "markdown",
   "metadata": {},
   "source": [
    "### Team Contribution\n",
    "\n",
    "Completion of this project is based on team efforts and commitment of all the team members. This experience had a lot to offer other than the subject knowledge. We started initially by choosing an appropriate site for the purpose of graph implementation. We worked together to come up with different options like indoor maps (e.g. Art institute of Chicago) and outdoor maps (e.g. Lincoln Park, Chicago, amusement parks in various other cities). We discussed various scenarios and contributed in analysing which kind of implementation will be feasible.  The next challenge was to decide the structure of our program. After suggestions from each member, we were able to come up with a basic OO structure of our class. Being a team of four, the variation in our perspective helped us to rule out minor flaws at a very early stage. This step was then followed by code implementation and division of responsibilities. Keeping the decided design as reference, each one of us came up with an initial draft of the code. After going through everybody’s initial draft, we picked the most efficient version and continued to improve it as per the requirements. Code implementation was then followed by necessary testing (automated and manual).  \n",
    "\n",
    "### Individual Contribution\n",
    "\n",
    "#### Aarushi\n",
    "\n",
    "Other than participating in the meetings, I was responsible for writing a couple of class functions such as __init__() function and verify_all_paths() function, formatting the overall structure of the program, adding format() function for appropriate display of variable names and performing a general testing to ensure valid user inputs. My work also includes coding the required doctest for positive and negative test case scenarios.\n",
    "\n",
    "\n",
    "#### Mengyuan\n",
    "\n",
    "After the group meetings, I was responsible for writing functions that help ordinary people and disabled people find the shortest way between two \n",
    "attractions in the map, and functions that draw and color the map according to the type of the attractions. Moreover, I defined the attributes and format of the data files.\n",
    "\n",
    "\n",
    "#### Nan\n",
    "\n",
    "In addition to participating the group meetings, I'm also responsible for writing the functions that adds nodes and edges of DiGraph as well as their attributes. Besides, I'm also responsible for preparing for the data files -- node.csv and edge.csv. \n",
    "\n",
    "\n",
    "#### Songwei\n",
    "\n",
    "After chosen the map, discussed about attributes, I was responsible for writing functions to load attributes of nodes and edges from the node.csv and edge.csv we've prepared for Nan's next step to construct the graph. In addition, I've add descriptions about the project and data files in the magic_map.py."
   ]
  }
 ],
 "metadata": {
  "kernelspec": {
   "display_name": "Python 3",
   "language": "python",
   "name": "python3"
  },
  "language_info": {
   "codemirror_mode": {
    "name": "ipython",
    "version": 3
   },
   "file_extension": ".py",
   "mimetype": "text/x-python",
   "name": "python",
   "nbconvert_exporter": "python",
   "pygments_lexer": "ipython3",
   "version": "3.6.1"
  }
 },
 "nbformat": 4,
 "nbformat_minor": 2
}
